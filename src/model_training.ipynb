{
 "cells": [
  {
   "cell_type": "code",
   "execution_count": 10,
   "id": "5db3ed14",
   "metadata": {},
   "outputs": [
    {
     "ename": "SyntaxError",
     "evalue": "invalid syntax. Maybe you meant '==' or ':=' instead of '='? (2691903824.py, line 30)",
     "output_type": "error",
     "traceback": [
      "\u001b[0;36m  Cell \u001b[0;32mIn[10], line 30\u001b[0;36m\u001b[0m\n\u001b[0;31m    x_train, x_eval y_train, y_eval = train_test_split(x, y, test_size=0.2, random_state=42)\u001b[0m\n\u001b[0m                             ^\u001b[0m\n\u001b[0;31mSyntaxError\u001b[0m\u001b[0;31m:\u001b[0m invalid syntax. Maybe you meant '==' or ':=' instead of '='?\n"
     ]
    }
   ],
   "source": [
    "# src/model_training.py\n",
    "\n",
    "import pandas as pd\n",
    "from sklearn.model_selection import train_test_split\n",
    "from sklearn.ensemble import RandomForestClassifier\n",
    "#from xgboost import XGBClassifier\n",
    "from sklearn.metrics import accuracy_score, f1_score\n",
    "\n",
    "def load_processed_data(filepath):\n",
    "    df = load_processed_data('data/bank_churn.csv')\n",
    "    assert isinstance(df, pd.DataFrame), \"Processed data should be loaded into a pandas DataFrame\"\n",
    "    assert not df.empty, \"Processed DataFrame should not be empty\"\n",
    "\n",
    "    df = pd.read_csv(filepath)\n",
    "    return df\n",
    "\n",
    "def define_features_target(df):\n",
    "    df = load_processed_data('data/processed_bank_churn.csv')\n",
    "    x, y = define_features_target(df)\n",
    "    assert isinstance(x, pd.DataFrame), \"Features should be a pandas DataFrame\"\n",
    "    assert isinstance(y, pd.Series), \"Target should be a pandas Series\"\n",
    "    assert 'churn' in y.name, \"Target column should be 'Exited'\"\n",
    "    x = define_features_target(df) #todo: get the features\n",
    "    y = define_features_target(df) #todo : get the target variable\n",
    "    return x, y\n",
    "\n",
    "def train_model(x_train, y_train):\n",
    "    df = load_processed_data('data/processed_bank_churn.csv')\n",
    "    x, y = define_features_target(df)\n",
    "    x_train, x_eval y_train, y_eval = train_test_split(x, y, test_size=0.2, random_state=42)\n",
    "    model = train_model(x_eval, y_eval)\n",
    "    assert hasattr(model, 'predict'), \"Model should have a predict method\"\n",
    "    model = RandomForestClassifier(n_estimators=100, random_state=42)\n",
    "    #todo: fit training data into the model\n",
    "    return model\n",
    "\n",
    "def evaluate_model(model, x_train, y_train):\n",
    "    df = load_processed_data('data/processed_bank_churn.csv')\n",
    "    x, y = define_features_target(df)\n",
    "    x_train, x_eval, y_train, y_eval = train_test_split(x, y, model_size=0.2, random_state=42)\n",
    "    model = train_model(x_train, y_train)\n",
    "    accuracy, f1 = evaluate_model(model, x_test, y_test)\n",
    "    assert 0.75 <= accuracy <= 1, \"Accuracy should be between 0 and 1\"\n",
    "    assert 0.5 <= f1 <= 1, \"F1 Score should be between 0 and 1\"\n",
    "\n",
    "    y_pred = load.bank_churn.csv #todo: \n",
    "    accuracy = accuracy_score(y_test, y_pred)\n",
    "    f1 = f1_score(y_test, y_pred)\n",
    "    print(f\"Accuracy: {accuracy:.4f}\")\n",
    "    print(f\"F1 Score: {f1:.4f}\")\n",
    "    return accuracy, f1\n",
    "\n",
    "def main():\n",
    "    # Load processed data\n",
    "    df = load_processed_data(\"file path\") # for file path , right click on bank_churn.csv and copy the path\n",
    "\n",
    "    \n",
    "    # Define features and target\n",
    "    x, y = define_features_target(df)\n",
    "    \n",
    "    # Split into training and testing sets\n",
    "    \n",
    "    x_train, x_eval, y_train, y_eval = #todo\n",
    "    \n",
    "    # Train model\n",
    "    model = train_model(x_train, y_train)\n",
    "    \n",
    "    # Evaluate model\n",
    "    evaluate_model(model, x_eval, y_eval)\n",
    "\n",
    "if __name__ == \"__main__\":\n",
    "    main()\n"
   ]
  }
 ],
 "metadata": {
  "kernelspec": {
   "display_name": "Python 3",
   "language": "python",
   "name": "python3"
  },
  "language_info": {
   "codemirror_mode": {
    "name": "ipython",
    "version": 3
   },
   "file_extension": ".py",
   "mimetype": "text/x-python",
   "name": "python",
   "nbconvert_exporter": "python",
   "pygments_lexer": "ipython3",
   "version": "3.12.1"
  }
 },
 "nbformat": 4,
 "nbformat_minor": 5
}
