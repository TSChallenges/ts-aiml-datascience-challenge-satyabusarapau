{
 "cells": [
  {
   "cell_type": "code",
   "execution_count": 1,
   "id": "8bbc10b6",
   "metadata": {
    "scrolled": true
   },
   "outputs": [
    {
     "ename": "TypeError",
     "evalue": "load_data() takes 0 positional arguments but 1 was given",
     "output_type": "error",
     "traceback": [
      "\u001b[0;31m---------------------------------------------------------------------------\u001b[0m",
      "\u001b[0;31mTypeError\u001b[0m                                 Traceback (most recent call last)",
      "Cell \u001b[0;32mIn[1], line 61\u001b[0m\n\u001b[1;32m     58\u001b[0m     visualize_distributions(df)\n\u001b[1;32m     60\u001b[0m \u001b[38;5;28;01mif\u001b[39;00m \u001b[38;5;18m__name__\u001b[39m \u001b[38;5;241m==\u001b[39m \u001b[38;5;124m\"\u001b[39m\u001b[38;5;124m__main__\u001b[39m\u001b[38;5;124m\"\u001b[39m:\n\u001b[0;32m---> 61\u001b[0m     \u001b[43mmain\u001b[49m\u001b[43m(\u001b[49m\u001b[43m)\u001b[49m\n",
      "Cell \u001b[0;32mIn[1], line 49\u001b[0m, in \u001b[0;36mmain\u001b[0;34m()\u001b[0m\n\u001b[1;32m     47\u001b[0m \u001b[38;5;28;01mdef\u001b[39;00m \u001b[38;5;21mmain\u001b[39m():\n\u001b[1;32m     48\u001b[0m     \u001b[38;5;66;03m# Load data\u001b[39;00m\n\u001b[0;32m---> 49\u001b[0m     df \u001b[38;5;241m=\u001b[39m \u001b[43mload_data\u001b[49m\u001b[43m(\u001b[49m\u001b[38;5;124;43m\"\u001b[39;49m\u001b[38;5;124;43mcopythefilepath\u001b[39;49m\u001b[38;5;124;43m\"\u001b[39;49m\u001b[43m)\u001b[49m\n\u001b[1;32m     51\u001b[0m     \u001b[38;5;66;03m# Check for missing values\u001b[39;00m\n\u001b[1;32m     52\u001b[0m     check_missing_values(df)\n",
      "\u001b[0;31mTypeError\u001b[0m: load_data() takes 0 positional arguments but 1 was given"
     ]
    }
   ],
   "source": [
    "import pandas as pd\n",
    "import seaborn as sns\n",
    "import numpy as np\n",
    "import matplotlib.pyplot as plt         #  importing some basic libraries to work with the dataset and for visualization\n",
    "\n",
    "\n",
    "\n",
    "def load_data():\n",
    "    df = load_data('data/bank_churn.csv')\n",
    "    assert isinstance(df, pd.DataFrame), \"Data should be loaded into a pandas DataFrame\"\n",
    "    \n",
    "    df = df.read_csv ('data/bank_churn.csv') #todo\n",
    "    return df\n",
    "\n",
    "def check_missing_values(df):\n",
    "    \n",
    "    df = load_data('data/bank_churn.csv')\n",
    "    #Check for missing values in the DataFrame.\n",
    "    \n",
    "    missing = df.isnull().sum()  #todo\n",
    "    assert missing.sum() > 0\n",
    "    print(\"Missing Values:\"[missing>0], missing)\n",
    "    assert missing.sum() == 0, \"There should be no missing values in the dataset\"\n",
    "\n",
    "def generate_summary_statistics(df):\n",
    "    df = load_data('data/bank_churn.csv')\n",
    "    summary = df.describe()\n",
    "   # Generate summary statistics for key variables.\n",
    "    assert 'age' in df.columns, \"DataFrame should include 'Age' column\"\n",
    "    assert 'balance' in df.columns, \"DataFrame should include 'Balance' column\"\n",
    "    assert 'credit_score' in df.columns, \"DataFrame should include 'credit_score' column\"\n",
    "    assert 'estimated_salary' in df.columns, \"DataFrame should include 'estimated_salary' column\"\n",
    "    summary = df.describe() #todo hint: pd.DataFrame().describe()\n",
    "    print(\"Summary Statistics:\\n\", summary)\n",
    "\n",
    "def visualize_distributions(df):\n",
    "    \"\"\"\n",
    "    #Visualize distributions of age, balance, credit_score, and estimated_salary.\n",
    "    \n",
    "    #Hint: use sns.histplot() \n",
    "    \"\"\"\n",
    "    #todo\n",
    "    \n",
    "    plt.tight_layout()\n",
    "    plt.show()\n",
    "\n",
    "def main():\n",
    "    # Load data\n",
    "    df = load_data(\"copythefilepath\")\n",
    "\n",
    "    # Check for missing values\n",
    "    check_missing_values(df)\n",
    "    \n",
    "    # Generate summary statistics\n",
    "    generate_summary_statistics(df)\n",
    "    \n",
    "    # Visualize distributions\n",
    "    visualize_distributions(df)\n",
    "\n",
    "if __name__ == \"__main__\":\n",
    "    main()\n"
   ]
  }
 ],
 "metadata": {
  "kernelspec": {
   "display_name": "Python 3",
   "language": "python",
   "name": "python3"
  },
  "language_info": {
   "codemirror_mode": {
    "name": "ipython",
    "version": 3
   },
   "file_extension": ".py",
   "mimetype": "text/x-python",
   "name": "python",
   "nbconvert_exporter": "python",
   "pygments_lexer": "ipython3",
   "version": "3.12.1"
  }
 },
 "nbformat": 4,
 "nbformat_minor": 5
}
